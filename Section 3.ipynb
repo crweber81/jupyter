{
 "cells": [
  {
   "cell_type": "markdown",
   "metadata": {},
   "source": [
    "## ML and Bayesian Inference\n",
    "### Weber, POL 683\n",
    "\n",
    "## Model Fit in Logit Models\n",
    "\n",
    "Model fit is an important, though difficult, topic when we are dealing with non-linear models. Though we can derive scalar measures of model fit from the linear model, which generally describe the discrepancy between the observed and predicted data (e.g., $R^2$), it's hard to find a comparably reliable statistic for non-linear models. \n",
    "\n",
    "Typically, we use $R^2$ to diagnose model fit, where the statistic is between 0 and 1. But with dichotomous data, it is never really clear what the boundary will be. It also doesn't have a natural intepretation. Recall, the statistic measures the amount of variance shared between the linear composition and the dependent variable -- it's the ratio of the regression variance to the total variance. We can calculate the total variance, but the regression variance is more challenging because we never observe $y_{latent}$ directly.\n",
    "\n",
    "Why this occurs should be fairly intuitive. Because we need to theoretically separate the structural and measurement models, it is difficult to derive a measure that is based on the distance between the observed and the predicted data. For instance, $exp(b)$, the odds ratio in a logit regression, makes it difficult to then map the log odds onto the 0/1 realization of the latent variable. \n",
    "\n",
    "In this session, we'll consider measures of model fit when using maximum likelihood. These are general measures of fit that translate to a variety of models (as long as ML is used). In addition to scalar measures of fit, we'll review model comparisons and \"information measures\" which may be used to compare non-nested models. Finally, we'll consider several approaches uniquely tailored to the binary variable regression; in particular, pseudo-$R^2$,  \"counts correctly predicted,\" and \"counts predicted, corrected by chance,\" and how to summarize prediction uncertainty.\n",
    "\n",
    "### Counts correctly predicted\n",
    "\n",
    "We could come up with a matrix which is the predicted value of $Y_{obs}$ and the actual value of $Y$. In this 2x2 matrix, the 1,1 and 0,0 entries represent accurate predictions; the off-diagonals are inaccurate predictions. We could just generate our prediction by whether the predicted latent variable is positive ($y=1$) or negative ($y=0$). Then, calculate the \"percent correctly predicted.\"\n",
    "\n",
    "If we convert these to probabilities by using the inverse normal or logit ($\\texttt{pnorm}$ or $\\texttt{logit}$), then define the $\\texttt{ePCP}$, expected correctly predicted as:\n",
    "\n",
    "$$ePCP={1\\over n}({\\sum_{y=1} P_i+\\sum_{y=0}(1-P_i)})$$\n",
    "\n",
    "An issue with \"Percent Correctly Predicted\" is that certainty is a constant. We declare $Y=1$ if $p=0.55$, just as we would declare $Y=1$ if $p=0.99$, but are clearly more confident in the latter. Thus, we weight each prediction by its constituent probability. We are accounting for our uncertainty. Typically, this number is somewhat lower than PCP. \n",
    "\n",
    "Another variation: Let's assume two models, a naive model and a model with the expected predictor. The naive model predicts the outcome based on the modal category. Thus, if 51\\% voted for Trump, the model would predict an Trump vote with probability of 0.51. We should never really get less than 0.51 -- if we do, then the naive model would be a superior model. \n",
    "\n",
    "In reality, our naive estimate is 0.65\n",
    "\n",
    "Think of it this way -- if we were to just estimate $\\theta$, that value would be the same as $\\texttt{plogis(a)}$ from a regression model with no predictors. The naive model is one that just assumes a single underlying $\\theta$, instead of $\\theta$ being some linear composite of predictors. Then, we may construct a comparison,\n",
    "\n",
    "$$PRE={{PCP-PMC}\\over {1-PMC}}$$\n",
    "\n",
    "Where the PRE is simply the proportional reduction in error -- how much do we reduce the error with our model, compared to the naive model which only predicts the modal category?\n",
    "\n",
    "### The Likelihood Ratio Test\n",
    "\n",
    "These are useful summary measures of model fit; they simply represent a comparison between our predicted and observed data, but in the case of binary responses. Often, we are also interested in comparing coefficients and/or estimating whether a coefficient or set of coefficients are equal to zero.\n",
    "\n",
    "Say we have this model:\n",
    "\n",
    "How do we test $H_0: \\beta_{1}=\\beta_{2}=0$? Similar to the joint F-test in the linear model, we can define a likelihood ratio test when we use MLE. Define two models: (1) $M_0: a $ and (2) $M_1: a+b_1x_x+b_2 x_2$\n",
    "\n",
    "Let's estimate the second model by maximizing the log likelihood function ($loglik_{m1}$) and then estimate a second model where we constrain the two slopes to be 0. Then,\n",
    "\n",
    "$$G^2(M_0|M_1)=2 loglik_{m1}-2 loglik_{m0}$$\n",
    "\n",
    "The $G^2$ statistic is distributed $\\chi^2$ with $df=$number of constraints (here 2). Clearly, we can reject the null of no influence. See Long (1997, page 94)\n",
    "\n",
    "We could flip things, and instead of comparing our model to one with no predictors, we could compare our model to one with predictors equal to the number of data points. In this case, we would perfectly predict our data, so the likelihood becomes 1. The log of 1 is 0. If we craft the same comparison\n",
    "\n",
    "$$G^2=2 loglik_{Full}-2 loglik_{M_1}$$, \n",
    "\n",
    "this reduces to \n",
    "\n",
    "$$Deviance=-2 loglik_{M_1}$$, \n",
    "\n",
    "This is called the deviance. It is just two times the log likelihood. It's also reported at the bottom of the $\\texttt{glm}$ output\n",
    "\n",
    "In particular, the $\\texttt{Null Deviance}$ is\n",
    "\n",
    "$$Null,Deviance=2loglik_{full}-2log_lik{Null}$$\n",
    "\n",
    "The $\\texttt{Residual Deviance}$\n",
    "\n",
    "$$Residual,Deviance=2loglik_{full}-2loglik_{My Model}$$\n",
    "\n",
    "\n",
    "### The Wald Test\n",
    "The Wald Test is asymptotically equal to the LR test, and the logic isn't all that different. First, constuct a Q and R vector of constants, such that \n",
    "\n",
    "$$Qb=r$$\n",
    "\n",
    "Let's assume one variable, so we estimate a slope and an intercept. Our $b$ vector is length 2.\n",
    "\n",
    "Let's test the constraint that $b=0$, then declare $Q=(0,1)$ and $r=0$. The Wald statistic is\n",
    "\n",
    "$$W=(Qb-r)^T(Qvar(b)Q^T)^{-1}(Qb-r)$$\n",
    "\n",
    "Let's deconstruct the statistic. The left and rightmost portions estimate the distance between the actual value of $b$ and 0 -- regardless of the complexity, it's the freed model relative to the constrained model. Because there is uncertainty around the estimates, this is represented in the middle portion. Again, we multiple by Q because we are only concerned about $b$. Take the inverse because we want to give more weight to precise (smaller variance) estimates (Long 1997, 90).\n",
    "\n",
    "In R we could use the aod package. The first argument is $b$, the second is the variance-covariance matrix, the third is the terms that we want to constrain. More complex constraints could also be specified.\n",
    "\n",
    "### Warning\n",
    "The Wald and LR tests are reasonable approaches, but (1) their small sample properties are somewhat unknown, and ****(2) they should only be used if the null model consists of the same data***. Say you estimate a regression of $y$ on $x$ where $x$ is missing several observations. \\texttt{R} will automatically drop these observations. Our null model must only include values of $y$ in which $x$ is observed, otherwise, it's an invalid comparison. I specified this above by declaring a dataset in which all NAs were omitted, $\\texttt{na.omit(data)}$. Be careful when you conduct these tests that your null model only includes points where the X variables are observed (even though the Xs aren't included in the model)!\n",
    "\n",
    "Moreover, these methods can really only be used for nested model. In the case above, $b=0$ is a constraint, so the restricted/constrained model is nested in the unrestricted model. In other words, the data are the same and the models are nested. If we wish to compare non-nested models, it's advisable to use the \"information measures\" described below.\n",
    "\n",
    "### Single Point Estimates of Fit\n",
    "\"Scalar estimates\" of model fit are not incredibly meaningful in the logit/probit framework. Yet, since they are often presented, I'll introduce them here. Recall, the $R^2$ measure is just\n",
    "\n",
    "$$R^2={RegSS\\over TSS}=1-{RSS/TSS}$$\n",
    "\n",
    "The problem is that in the logit/probit model, we cannot directly compare $Y_{obs}$ to the prediction we make with respect to $Y_{latent}$. Nonetheless, let's define the Efron (1978) measure of pseudo-$R^2$ as,\n",
    "\n",
    "$$PseudoR^2={1-{\\sum (y-\\hat{y_{latent}})^2}\\over {\\sum (y-\\bar{y})^2)}}$$\n",
    "\n",
    "Thus, in the denominator we are subtracting the latent prediction from the 0/1 observed value. \n",
    "\n",
    "Or, McFadden (1973) takes the ratio of the log likelihood of the model without predictors relative to the log likelihood of the model with predictors. Subtract this ratio from 1.\n",
    "\n",
    "Notice that the point predictions are somewhat different. The Long (1997) book (p. 104-105) highlights several additional ones, which I encourage you to program yourselves, but typically the problem still remains: The fact that our predictions and the observed data are on different metrics, makes any comparison somewhat tenuous. Instead, a better approach is to use the aformentioned count predictions.\n",
    "\n",
    "### Information Measures\n",
    "The Akaike Information Criterion (AIC) is defined as:\n",
    "\n",
    "$$AIC={{-2loglik(\\theta)+2P}\\over N}$$\n",
    "\n",
    "Calculate the $-2loglik$ and add 2 $\\times$ the number of predictors, where $p=K+1$ (Long 1997, 109). Finally, divide by the number of observations. Notice what happens with this function. As the number of parameters increases, but the log-likelihood stays the same, the AIC will increase. We prefer a \\emph{smaller} AIC. The statistic penalizes for added parameters that do not improve fit. We will always decrease the log-likelihood by adding more parameters. Unlike the LR test, we could compare different non-nested models or models across samples. We just calculate the difference between two models -- call the first $AIC_1$ and the second $AIC_2$. There's not really an agreed upon cutoff as to what this difference should be, to determine whether one model fits better. I generally follow the rule that if it greater than 10, it's probably worthwhile to accept the more complex model.\n",
    "\n",
    "The Bayesian Information Criterion (BIC) is again based on a comparision -- between a fully saturated model and the proposed model. The BIC is:\n",
    "\n",
    "$$BIC=D(M)-df ln N$$\n",
    "\n",
    "Here, $D(M)$ is simply the deviance for the model -- again the contrast between the proposed model and the fully saturated model. The degrees of freedom calculation is $N-k-1$, where $k$ is the number of predictors. Note what happens with this statistic. If the deviance increases, this indicates a worse fitting model; we prefer a smaller number. But the deviance is again offset by the number of parameters, the degrees of freedom. Again, we should always prefer the model with smaller BIC.\n",
    "\n",
    "### Simulation Methods\n",
    "Gelman and Hill (2009) elaborate on one of unfortunate aspects of statistical methods: It is inappropriately viewed as a data reduction technique. We obtain a rich dataset and then reduce it to a single (oftentimes uninterpretable) estimate. In fact, the estimate itself is subject to sampling error -- insofar as we only observe a sample and not the population. Unfortunately, the critique also applies to estimates of model fit. If there is uncertainty in our estimates, then there is also uncertainty in how well our model fit the data.\n",
    "\n",
    "We can use simulation based methods to better draw inferences from our model, as well as diagnose how reasonably our model fit our data. Here, I'll draw heavily on Gelman and Hill (2009, Chapter 7). \n",
    "\n",
    "### Simulating Prediction Uncertainty\n",
    "In the last session, I provided a little bit of guidance about how to simulate uncertainty in logit/probit regression. I want to return to that here, for a more complete treatment. \n",
    "\n",
    "There are a number of measures of fit. Unique to the logit/probit model is the suite of \"percent correctly predicted\" measures, which use the model parameters and data to predict 1/0 responses. These predictions are then compared to the actual data. \n",
    "\n",
    "Alternatively, we can make use of the calculated log-likelihood value, not only for model comparisons, but also to generate scalar measures of fit, such as the pseudo-$R^2$. However, these scalar measures are somewhat problematic, as they assume a comparison that doesn't exist, between the the latent and observed data. Alternatively, we can use \"information based\" measures, such as the AIC and BIC, to compare model fit across non-nested models. These statistics not only use the log-likelihood, but they also penalize for the number of parameters.\n",
    "\n",
    "These measures -- and the model -- all suffer from the flaw of being somewhat reductive. We as researchers too often use our model to make predictions, as if there were complete certainty in the parameter estimates. There is not, and the parameter estimates like the sample, follow a distribution of potential responses. Thus, I encourage you to think carefully about simulation based methods of fit, consistent with the last section of these notes."
   ]
  },
  {
   "cell_type": "code",
   "execution_count": 83,
   "metadata": {},
   "outputs": [
    {
     "data": {
      "text/html": [
       "'demo_data'"
      ],
      "text/latex": [
       "'demo\\_data'"
      ],
      "text/markdown": [
       "'demo_data'"
      ],
      "text/plain": [
       "[1] \"demo_data\""
      ]
     },
     "metadata": {},
     "output_type": "display_data"
    },
    {
     "data": {
      "text/html": [
       "<table>\n",
       "<thead><tr><th scope=col>trump_vote</th><th scope=col>pid</th><th scope=col>dem_ideo</th><th scope=col>rep_ideo</th></tr></thead>\n",
       "<tbody>\n",
       "\t<tr><td>0</td><td>1</td><td>3</td><td>4</td></tr>\n",
       "\t<tr><td>1</td><td>4</td><td>2</td><td>4</td></tr>\n",
       "\t<tr><td>1</td><td>6</td><td>3</td><td>3</td></tr>\n",
       "\t<tr><td>0</td><td>2</td><td>3</td><td>4</td></tr>\n",
       "\t<tr><td>1</td><td>4</td><td>3</td><td>4</td></tr>\n",
       "\t<tr><td>1</td><td>6</td><td>1</td><td>1</td></tr>\n",
       "</tbody>\n",
       "</table>\n"
      ],
      "text/latex": [
       "\\begin{tabular}{r|llll}\n",
       " trump\\_vote & pid & dem\\_ideo & rep\\_ideo\\\\\n",
       "\\hline\n",
       "\t 0 & 1 & 3 & 4\\\\\n",
       "\t 1 & 4 & 2 & 4\\\\\n",
       "\t 1 & 6 & 3 & 3\\\\\n",
       "\t 0 & 2 & 3 & 4\\\\\n",
       "\t 1 & 4 & 3 & 4\\\\\n",
       "\t 1 & 6 & 1 & 1\\\\\n",
       "\\end{tabular}\n"
      ],
      "text/markdown": [
       "\n",
       "| trump_vote | pid | dem_ideo | rep_ideo |\n",
       "|---|---|---|---|\n",
       "| 0 | 1 | 3 | 4 |\n",
       "| 1 | 4 | 2 | 4 |\n",
       "| 1 | 6 | 3 | 3 |\n",
       "| 0 | 2 | 3 | 4 |\n",
       "| 1 | 4 | 3 | 4 |\n",
       "| 1 | 6 | 1 | 1 |\n",
       "\n"
      ],
      "text/plain": [
       "  trump_vote pid dem_ideo rep_ideo\n",
       "1 0          1   3        4       \n",
       "2 1          4   2        4       \n",
       "3 1          6   3        3       \n",
       "4 0          2   3        4       \n",
       "5 1          4   3        4       \n",
       "6 1          6   1        1       "
      ]
     },
     "metadata": {},
     "output_type": "display_data"
    }
   ],
   "source": [
    "library(dplyr)\n",
    "library(survey)  \n",
    "library(mice) \n",
    "library(reshape2)\n",
    "rm(list=ls())\n",
    "load(\"~/Desktop/APL Survey/demo683.rda\")\n",
    "ls()\n",
    "head(demo_data)\n"
   ]
  },
  {
   "cell_type": "code",
   "execution_count": 85,
   "metadata": {},
   "outputs": [
    {
     "data": {
      "text/html": [
       "<table>\n",
       "<thead><tr><th scope=col>trump_vote</th><th scope=col>pid</th><th scope=col>dem_ideo</th><th scope=col>rep_ideo</th></tr></thead>\n",
       "<tbody>\n",
       "\t<tr><td>0</td><td>1</td><td>3</td><td>4</td></tr>\n",
       "\t<tr><td>1</td><td>4</td><td>2</td><td>4</td></tr>\n",
       "\t<tr><td>1</td><td>6</td><td>3</td><td>3</td></tr>\n",
       "\t<tr><td>0</td><td>2</td><td>3</td><td>4</td></tr>\n",
       "\t<tr><td>1</td><td>4</td><td>3</td><td>4</td></tr>\n",
       "\t<tr><td>1</td><td>6</td><td>1</td><td>1</td></tr>\n",
       "</tbody>\n",
       "</table>\n"
      ],
      "text/latex": [
       "\\begin{tabular}{r|llll}\n",
       " trump\\_vote & pid & dem\\_ideo & rep\\_ideo\\\\\n",
       "\\hline\n",
       "\t 0 & 1 & 3 & 4\\\\\n",
       "\t 1 & 4 & 2 & 4\\\\\n",
       "\t 1 & 6 & 3 & 3\\\\\n",
       "\t 0 & 2 & 3 & 4\\\\\n",
       "\t 1 & 4 & 3 & 4\\\\\n",
       "\t 1 & 6 & 1 & 1\\\\\n",
       "\\end{tabular}\n"
      ],
      "text/markdown": [
       "\n",
       "| trump_vote | pid | dem_ideo | rep_ideo |\n",
       "|---|---|---|---|\n",
       "| 0 | 1 | 3 | 4 |\n",
       "| 1 | 4 | 2 | 4 |\n",
       "| 1 | 6 | 3 | 3 |\n",
       "| 0 | 2 | 3 | 4 |\n",
       "| 1 | 4 | 3 | 4 |\n",
       "| 1 | 6 | 1 | 1 |\n",
       "\n"
      ],
      "text/plain": [
       "  trump_vote pid dem_ideo rep_ideo\n",
       "1 0          1   3        4       \n",
       "2 1          4   2        4       \n",
       "3 1          6   3        3       \n",
       "4 0          2   3        4       \n",
       "5 1          4   3        4       \n",
       "6 1          6   1        1       "
      ]
     },
     "metadata": {},
     "output_type": "display_data"
    },
    {
     "data": {
      "text/plain": [
       "\n",
       "Call:\n",
       "glm(formula = trump_vote ~ pid, family = binomial(\"logit\"), data = demo_data)\n",
       "\n",
       "Deviance Residuals: \n",
       "    Min       1Q   Median       3Q      Max  \n",
       "-2.4218  -0.6527  -0.2326   0.5534   2.6919  \n",
       "\n",
       "Coefficients:\n",
       "            Estimate Std. Error z value Pr(>|z|)    \n",
       "(Intercept) -4.67498    0.27384  -17.07   <2e-16 ***\n",
       "pid          1.07896    0.05987   18.02   <2e-16 ***\n",
       "---\n",
       "Signif. codes:  0 ‘***’ 0.001 ‘**’ 0.01 ‘*’ 0.05 ‘.’ 0.1 ‘ ’ 1\n",
       "\n",
       "(Dispersion parameter for binomial family taken to be 1)\n",
       "\n",
       "    Null deviance: 1585.1  on 1143  degrees of freedom\n",
       "Residual deviance:  936.6  on 1142  degrees of freedom\n",
       "AIC: 940.6\n",
       "\n",
       "Number of Fisher Scoring iterations: 5\n"
      ]
     },
     "metadata": {},
     "output_type": "display_data"
    },
    {
     "data": {
      "text/html": [
       "<dl class=dl-horizontal>\n",
       "\t<dt>(Intercept)</dt>\n",
       "\t\t<dd>0.00932574998508596</dd>\n",
       "\t<dt>pid</dt>\n",
       "\t\t<dd>2.94161326435662</dd>\n",
       "</dl>\n"
      ],
      "text/latex": [
       "\\begin{description*}\n",
       "\\item[(Intercept)] 0.00932574998508596\n",
       "\\item[pid] 2.94161326435662\n",
       "\\end{description*}\n"
      ],
      "text/markdown": [
       "(Intercept)\n",
       ":   0.00932574998508596pid\n",
       ":   2.94161326435662\n",
       "\n"
      ],
      "text/plain": [
       "(Intercept)         pid \n",
       " 0.00932575  2.94161326 "
      ]
     },
     "metadata": {},
     "output_type": "display_data"
    },
    {
     "name": "stdout",
     "output_type": "stream",
     "text": [
      "[1] \"Pr(Trump|PID=1)\"\n"
     ]
    },
    {
     "data": {
      "text/html": [
       "<strong>1:</strong> 0.0267002875468413"
      ],
      "text/latex": [
       "\\textbf{1:} 0.0267002875468413"
      ],
      "text/markdown": [
       "**1:** 0.0267002875468413"
      ],
      "text/plain": [
       "         1 \n",
       "0.02670029 "
      ]
     },
     "metadata": {},
     "output_type": "display_data"
    },
    {
     "name": "stdout",
     "output_type": "stream",
     "text": [
      "[1] \"Pr(Not Trump|PID=1)\"\n"
     ]
    },
    {
     "data": {
      "text/html": [
       "<strong>1:</strong> 0.973299712453159"
      ],
      "text/latex": [
       "\\textbf{1:} 0.973299712453159"
      ],
      "text/markdown": [
       "**1:** 0.973299712453159"
      ],
      "text/plain": [
       "        1 \n",
       "0.9732997 "
      ]
     },
     "metadata": {},
     "output_type": "display_data"
    },
    {
     "name": "stdout",
     "output_type": "stream",
     "text": [
      "[1] \"Pr(Trump|PID=2)\"\n"
     ]
    },
    {
     "data": {
      "text/html": [
       "<strong>1:</strong> 0.0746708606941177"
      ],
      "text/latex": [
       "\\textbf{1:} 0.0746708606941177"
      ],
      "text/markdown": [
       "**1:** 0.0746708606941177"
      ],
      "text/plain": [
       "         1 \n",
       "0.07467086 "
      ]
     },
     "metadata": {},
     "output_type": "display_data"
    },
    {
     "name": "stdout",
     "output_type": "stream",
     "text": [
      "[1] \"Pr(Not Trump|PID=2)\"\n"
     ]
    },
    {
     "data": {
      "text/html": [
       "<strong>1:</strong> 0.925329139305882"
      ],
      "text/latex": [
       "\\textbf{1:} 0.925329139305882"
      ],
      "text/markdown": [
       "**1:** 0.925329139305882"
      ],
      "text/plain": [
       "        1 \n",
       "0.9253291 "
      ]
     },
     "metadata": {},
     "output_type": "display_data"
    },
    {
     "data": {
      "text/html": [
       "<strong>1:</strong> 2.94161326435662"
      ],
      "text/latex": [
       "\\textbf{1:} 2.94161326435662"
      ],
      "text/markdown": [
       "**1:** 2.94161326435662"
      ],
      "text/plain": [
       "       1 \n",
       "2.941613 "
      ]
     },
     "metadata": {},
     "output_type": "display_data"
    },
    {
     "data": {
      "text/html": [
       "<strong>1:</strong> 2.94161326435662"
      ],
      "text/latex": [
       "\\textbf{1:} 2.94161326435662"
      ],
      "text/markdown": [
       "**1:** 2.94161326435662"
      ],
      "text/plain": [
       "       1 \n",
       "2.941613 "
      ]
     },
     "metadata": {},
     "output_type": "display_data"
    }
   ],
   "source": [
    "head(demo_data)\n",
    "model<-glm(trump_vote~pid, data=demo_data, family=binomial(\"logit\"))\n",
    "summary(model)\n",
    "\n",
    "\n",
    "exp(model$coefficients) ### For every unit increase in pid, there is a 2.94 change in the odds for voting Trump, or\n",
    "\n",
    "\n",
    "print(\"Pr(Trump|PID=1)\")\n",
    "predict(model, newdata=data.frame(pid=1)) %>% plogis()\n",
    "print(\"Pr(Not Trump|PID=1)\")\n",
    "1-predict(model, newdata=data.frame(pid=1)) %>% plogis()\n",
    "\n",
    "print(\"Pr(Trump|PID=2)\")\n",
    "predict(model, newdata=data.frame(pid=2)) %>% plogis()\n",
    "print(\"Pr(Not Trump|PID=2)\")\n",
    "1-predict(model, newdata=data.frame(pid=2)) %>% plogis()\n",
    "\n",
    "#odds(y=1|dem=2)/\n",
    "#odds(y=1|dem=1)\n",
    "\n",
    "\n",
    "\n",
    "## Just the ratio\n",
    "(predict(model, newdata=data.frame(pid=2)) %>% plogis()/(1-predict(model, newdata=data.frame(pid=2)) %>% plogis()))/\n",
    "(predict(model, newdata=data.frame(pid=1)) %>% plogis()/(1-predict(model, newdata=data.frame(pid=1)) %>% plogis()))\n",
    "\n",
    "## Same it's somehwere else\n",
    "(predict(model, newdata=data.frame(pid=4)) %>% plogis()/(1-predict(model, newdata=data.frame(pid=4)) %>% plogis()))/\n",
    "(predict(model, newdata=data.frame(pid=3)) %>% plogis()/(1-predict(model, newdata=data.frame(pid=3)) %>% plogis()))\n",
    "\n"
   ]
  },
  {
   "cell_type": "code",
   "execution_count": 87,
   "metadata": {},
   "outputs": [
    {
     "name": "stdout",
     "output_type": "stream",
     "text": [
      "Classification Threshold = 0.5 \n",
      "       y=0 y=1\n",
      "yhat=0 587 557\n",
      "yhat=1   0   0\n",
      "Percent Correctly Predicted = 51.31%\n",
      "Percent Correctly Predicted = 100%, for y = 0\n",
      "Percent Correctly Predicted = 0%  for y = 1\n",
      "Null Model Correctly Predicts 51.31%\n"
     ]
    },
    {
     "data": {
      "text/html": [
       "<ol class=list-inline>\n",
       "\t<li>51.3111888111888</li>\n",
       "\t<li>100</li>\n",
       "\t<li>0</li>\n",
       "</ol>\n"
      ],
      "text/latex": [
       "\\begin{enumerate*}\n",
       "\\item 51.3111888111888\n",
       "\\item 100\n",
       "\\item 0\n",
       "\\end{enumerate*}\n"
      ],
      "text/markdown": [
       "1. 51.3111888111888\n",
       "2. 100\n",
       "3. 0\n",
       "\n",
       "\n"
      ],
      "text/plain": [
       "[1]  51.31119 100.00000   0.00000"
      ]
     },
     "metadata": {},
     "output_type": "display_data"
    },
    {
     "name": "stdout",
     "output_type": "stream",
     "text": [
      "Classification Threshold = 0.5 \n",
      "       y=0 y=1\n",
      "yhat=0 513 126\n",
      "yhat=1  74 431\n",
      "Percent Correctly Predicted = 82.52%\n",
      "Percent Correctly Predicted = 87.39%, for y = 0\n",
      "Percent Correctly Predicted = 77.38%  for y = 1\n",
      "Null Model Correctly Predicts 51.31%\n"
     ]
    },
    {
     "data": {
      "text/html": [
       "<ol class=list-inline>\n",
       "\t<li>82.5174825174825</li>\n",
       "\t<li>87.3935264054515</li>\n",
       "\t<li>77.3788150807899</li>\n",
       "</ol>\n"
      ],
      "text/latex": [
       "\\begin{enumerate*}\n",
       "\\item 82.5174825174825\n",
       "\\item 87.3935264054515\n",
       "\\item 77.3788150807899\n",
       "\\end{enumerate*}\n"
      ],
      "text/markdown": [
       "1. 82.5174825174825\n",
       "2. 87.3935264054515\n",
       "3. 77.3788150807899\n",
       "\n",
       "\n"
      ],
      "text/plain": [
       "[1] 82.51748 87.39353 77.37882"
      ]
     },
     "metadata": {},
     "output_type": "display_data"
    },
    {
     "data": {
      "text/html": [
       "<table>\n",
       "<thead><tr><th scope=col>#Df</th><th scope=col>LogLik</th><th scope=col>Df</th><th scope=col>Chisq</th><th scope=col>Pr(&gt;Chisq)</th></tr></thead>\n",
       "<tbody>\n",
       "\t<tr><td>1            </td><td>-792.5670    </td><td>NA           </td><td>      NA     </td><td>           NA</td></tr>\n",
       "\t<tr><td>2            </td><td>-468.2992    </td><td> 1           </td><td>648.5356     </td><td>4.651497e-143</td></tr>\n",
       "</tbody>\n",
       "</table>\n"
      ],
      "text/latex": [
       "\\begin{tabular}{r|lllll}\n",
       " \\#Df & LogLik & Df & Chisq & Pr(>Chisq)\\\\\n",
       "\\hline\n",
       "\t 1             & -792.5670     & NA            &       NA      &            NA\\\\\n",
       "\t 2             & -468.2992     &  1            & 648.5356      & 4.651497e-143\\\\\n",
       "\\end{tabular}\n"
      ],
      "text/markdown": [
       "\n",
       "| #Df | LogLik | Df | Chisq | Pr(>Chisq) |\n",
       "|---|---|---|---|---|\n",
       "| 1             | -792.5670     | NA            |       NA      |            NA |\n",
       "| 2             | -468.2992     |  1            | 648.5356      | 4.651497e-143 |\n",
       "\n"
      ],
      "text/plain": [
       "  #Df LogLik    Df Chisq    Pr(>Chisq)   \n",
       "1 1   -792.5670 NA       NA            NA\n",
       "2 2   -468.2992  1 648.5356 4.651497e-143"
      ]
     },
     "metadata": {},
     "output_type": "display_data"
    }
   ],
   "source": [
    "library(pscl)\n",
    "library(lmtest)\n",
    "data<-na.omit(demo_data)\n",
    "m1<-glm(trump_vote~1, data=data, family=binomial(\"logit\")) #naive model\n",
    "hitmiss(m1)\n",
    "\n",
    "m2<-glm(trump_vote~pid, data=data, family=binomial(\"logit\"))\n",
    "hitmiss(m2)\n",
    "lrtest(m1,m2)"
   ]
  },
  {
   "cell_type": "code",
   "execution_count": 88,
   "metadata": {},
   "outputs": [
    {
     "data": {
      "text/html": [
       "0.516984064418094"
      ],
      "text/latex": [
       "0.516984064418094"
      ],
      "text/markdown": [
       "0.516984064418094"
      ],
      "text/plain": [
       "[1] 0.5169841"
      ]
     },
     "metadata": {},
     "output_type": "display_data"
    },
    {
     "data": {
      "text/plain": [
       "'log Lik.' 0.4091361 (df=2)"
      ]
     },
     "metadata": {},
     "output_type": "display_data"
    }
   ],
   "source": [
    "efron.r2=function(x){\n",
    "  fit.x<-x$fitted.values\n",
    "  obs.x<-x$y\n",
    "  return((sum((obs.x-fit.x)^2))/(sum((obs.x-mean(obs.x))^2)))\n",
    "}\n",
    "efron.r2(m2)\n",
    "\n",
    "mcfadden.r2=function(a,b){\n",
    "  return(1-logLik(a)/logLik(b))\n",
    "}\n",
    "mcfadden.r2(m2,m1)"
   ]
  },
  {
   "cell_type": "markdown",
   "metadata": {},
   "source": [
    "Let's now simulate predictions at several values of $x$"
   ]
  },
  {
   "cell_type": "code",
   "execution_count": 96,
   "metadata": {},
   "outputs": [
    {
     "data": {
      "text/html": [
       "<table>\n",
       "<tbody>\n",
       "\t<tr><td>0.02670029</td></tr>\n",
       "\t<tr><td>0.07467086</td></tr>\n",
       "\t<tr><td>0.19183953</td></tr>\n",
       "\t<tr><td>0.41116698</td></tr>\n",
       "\t<tr><td>0.67256626</td></tr>\n",
       "\t<tr><td>0.85799952</td></tr>\n",
       "\t<tr><td>0.94673457</td></tr>\n",
       "</tbody>\n",
       "</table>\n"
      ],
      "text/latex": [
       "\\begin{tabular}{l}\n",
       "\t 0.02670029\\\\\n",
       "\t 0.07467086\\\\\n",
       "\t 0.19183953\\\\\n",
       "\t 0.41116698\\\\\n",
       "\t 0.67256626\\\\\n",
       "\t 0.85799952\\\\\n",
       "\t 0.94673457\\\\\n",
       "\\end{tabular}\n"
      ],
      "text/markdown": [
       "\n",
       "| 0.02670029 |\n",
       "| 0.07467086 |\n",
       "| 0.19183953 |\n",
       "| 0.41116698 |\n",
       "| 0.67256626 |\n",
       "| 0.85799952 |\n",
       "| 0.94673457 |\n",
       "\n"
      ],
      "text/plain": [
       "     [,1]      \n",
       "[1,] 0.02670029\n",
       "[2,] 0.07467086\n",
       "[3,] 0.19183953\n",
       "[4,] 0.41116698\n",
       "[5,] 0.67256626\n",
       "[6,] 0.85799952\n",
       "[7,] 0.94673457"
      ]
     },
     "metadata": {},
     "output_type": "display_data"
    },
    {
     "data": {
      "text/html": [
       "<table>\n",
       "<thead><tr><th scope=col>(Intercept)</th><th scope=col>pid</th></tr></thead>\n",
       "<tbody>\n",
       "\t<tr><td>-4.819838</td><td>1.104199 </td></tr>\n",
       "\t<tr><td>-4.750067</td><td>1.080433 </td></tr>\n",
       "\t<tr><td>-4.445323</td><td>1.046627 </td></tr>\n",
       "\t<tr><td>-4.405278</td><td>1.041774 </td></tr>\n",
       "\t<tr><td>-4.705527</td><td>1.061336 </td></tr>\n",
       "\t<tr><td>-4.780982</td><td>1.141289 </td></tr>\n",
       "</tbody>\n",
       "</table>\n"
      ],
      "text/latex": [
       "\\begin{tabular}{ll}\n",
       " (Intercept) & pid\\\\\n",
       "\\hline\n",
       "\t -4.819838 & 1.104199 \\\\\n",
       "\t -4.750067 & 1.080433 \\\\\n",
       "\t -4.445323 & 1.046627 \\\\\n",
       "\t -4.405278 & 1.041774 \\\\\n",
       "\t -4.705527 & 1.061336 \\\\\n",
       "\t -4.780982 & 1.141289 \\\\\n",
       "\\end{tabular}\n"
      ],
      "text/markdown": [
       "\n",
       "| (Intercept) | pid |\n",
       "|---|---|\n",
       "| -4.819838 | 1.104199  |\n",
       "| -4.750067 | 1.080433  |\n",
       "| -4.445323 | 1.046627  |\n",
       "| -4.405278 | 1.041774  |\n",
       "| -4.705527 | 1.061336  |\n",
       "| -4.780982 | 1.141289  |\n",
       "\n"
      ],
      "text/plain": [
       "     (Intercept) pid     \n",
       "[1,] -4.819838   1.104199\n",
       "[2,] -4.750067   1.080433\n",
       "[3,] -4.445323   1.046627\n",
       "[4,] -4.405278   1.041774\n",
       "[5,] -4.705527   1.061336\n",
       "[6,] -4.780982   1.141289"
      ]
     },
     "metadata": {},
     "output_type": "display_data"
    },
    {
     "data": {
      "text/html": [
       "<ol class=list-inline>\n",
       "\t<li>1000</li>\n",
       "\t<li>2</li>\n",
       "</ol>\n"
      ],
      "text/latex": [
       "\\begin{enumerate*}\n",
       "\\item 1000\n",
       "\\item 2\n",
       "\\end{enumerate*}\n"
      ],
      "text/markdown": [
       "1. 1000\n",
       "2. 2\n",
       "\n",
       "\n"
      ],
      "text/plain": [
       "[1] 1000    2"
      ]
     },
     "metadata": {},
     "output_type": "display_data"
    },
    {
     "ename": "ERROR",
     "evalue": "Error in data.frame(lower_bound, upper_bound, median, pid = seq(1, 7, : arguments imply differing number of rows: 1000, 7\n",
     "output_type": "error",
     "traceback": [
      "Error in data.frame(lower_bound, upper_bound, median, pid = seq(1, 7, : arguments imply differing number of rows: 1000, 7\nTraceback:\n",
      "1. data.frame(lower_bound, upper_bound, median, pid = seq(1, 7, \n .     1))",
      "2. stop(gettextf(\"arguments imply differing number of rows: %s\", \n .     paste(unique(nrows), collapse = \", \")), domain = NA)"
     ]
    },
    {
     "data": {
      "image/png": "[encoded data removed]",
      "text/plain": [
       "Plot with title “Histogram of sim_beta[, 1] %>% plogis()”"
      ]
     },
     "metadata": {},
     "output_type": "display_data"
    }
   ],
   "source": [
    "library(ggplot2)\n",
    "\n",
    "nd<-cbind(1, seq(1, 7, by=1))\n",
    "\n",
    "plogis(nd %*% coef(m2))\n",
    "\n",
    "library(MASS)\n",
    "sim_beta<-mvrnorm(1000, coef(m2), vcov(m2))\n",
    "\n",
    "hist(sim_beta[,1] %>% plogis())\n",
    "\n",
    "head(sim_beta)\n",
    "dim(sim_beta)\n",
    "\n",
    "lower_bound=nd %*% t(sim_beta) %>% t() %>% plogis() %>% apply(2, quantile, 0.025)\n",
    "upper_bound=nd %*% t(sim_beta) %>% t() %>% plogis() %>% apply(2, quantile, 0.975)\n",
    "median=nd %*% t(sim_beta) %>% t() %>% plogis() %>% apply(2, quantile, 0.5)\n",
    "plot.dat<-data.frame(lower_bound, upper_bound, median, pid=seq(1,7, 1))\n",
    "plot.dat\n",
    "ggplot(plot.dat, aes(x=pid, \n",
    "                     y=median, \n",
    "                     ymax=upper_bound, \n",
    "                     ymin=lower_bound, group=1))+\n",
    "geom_line()+\n",
    "geom_ribbon(fill=\"pink\", alpha=0.75)+\n",
    "xlab(\"PID\")+\n",
    "ylab(\"Prob\")"
   ]
  },
  {
   "cell_type": "code",
   "execution_count": 21,
   "metadata": {},
   "outputs": [
    {
     "name": "stdout",
     "output_type": "stream",
     "text": [
      "\n",
      "SAMPLING FOR MODEL 'bernoulli' NOW (CHAIN 1).\n",
      "Chain 1: \n",
      "Chain 1: Gradient evaluation took 4e-05 seconds\n",
      "Chain 1: 1000 transitions using 10 leapfrog steps per transition would take 0.4 seconds.\n",
      "Chain 1: Adjust your expectations accordingly!\n",
      "Chain 1: \n",
      "Chain 1: \n",
      "Chain 1: Iteration:    1 / 2000 [  0%]  (Warmup)\n",
      "Chain 1: Iteration:  200 / 2000 [ 10%]  (Warmup)\n",
      "Chain 1: Iteration:  400 / 2000 [ 20%]  (Warmup)\n",
      "Chain 1: Iteration:  600 / 2000 [ 30%]  (Warmup)\n",
      "Chain 1: Iteration:  800 / 2000 [ 40%]  (Warmup)\n",
      "Chain 1: Iteration: 1000 / 2000 [ 50%]  (Warmup)\n",
      "Chain 1: Iteration: 1001 / 2000 [ 50%]  (Sampling)\n",
      "Chain 1: Iteration: 1200 / 2000 [ 60%]  (Sampling)\n",
      "Chain 1: Iteration: 1400 / 2000 [ 70%]  (Sampling)\n",
      "Chain 1: Iteration: 1600 / 2000 [ 80%]  (Sampling)\n",
      "Chain 1: Iteration: 1800 / 2000 [ 90%]  (Sampling)\n",
      "Chain 1: Iteration: 2000 / 2000 [100%]  (Sampling)\n",
      "Chain 1: \n",
      "Chain 1:  Elapsed Time: 0.165974 seconds (Warm-up)\n",
      "Chain 1:                0.168055 seconds (Sampling)\n",
      "Chain 1:                0.334029 seconds (Total)\n",
      "Chain 1: \n",
      "\n",
      "SAMPLING FOR MODEL 'bernoulli' NOW (CHAIN 2).\n",
      "Chain 2: \n",
      "Chain 2: Gradient evaluation took 3.5e-05 seconds\n",
      "Chain 2: 1000 transitions using 10 leapfrog steps per transition would take 0.35 seconds.\n",
      "Chain 2: Adjust your expectations accordingly!\n",
      "Chain 2: \n",
      "Chain 2: \n",
      "Chain 2: Iteration:    1 / 2000 [  0%]  (Warmup)\n",
      "Chain 2: Iteration:  200 / 2000 [ 10%]  (Warmup)\n",
      "Chain 2: Iteration:  400 / 2000 [ 20%]  (Warmup)\n",
      "Chain 2: Iteration:  600 / 2000 [ 30%]  (Warmup)\n",
      "Chain 2: Iteration:  800 / 2000 [ 40%]  (Warmup)\n",
      "Chain 2: Iteration: 1000 / 2000 [ 50%]  (Warmup)\n",
      "Chain 2: Iteration: 1001 / 2000 [ 50%]  (Sampling)\n",
      "Chain 2: Iteration: 1200 / 2000 [ 60%]  (Sampling)\n",
      "Chain 2: Iteration: 1400 / 2000 [ 70%]  (Sampling)\n",
      "Chain 2: Iteration: 1600 / 2000 [ 80%]  (Sampling)\n",
      "Chain 2: Iteration: 1800 / 2000 [ 90%]  (Sampling)\n",
      "Chain 2: Iteration: 2000 / 2000 [100%]  (Sampling)\n",
      "Chain 2: \n",
      "Chain 2:  Elapsed Time: 0.156979 seconds (Warm-up)\n",
      "Chain 2:                0.201451 seconds (Sampling)\n",
      "Chain 2:                0.35843 seconds (Total)\n",
      "Chain 2: \n",
      "\n",
      "SAMPLING FOR MODEL 'bernoulli' NOW (CHAIN 3).\n",
      "Chain 3: \n",
      "Chain 3: Gradient evaluation took 3.5e-05 seconds\n",
      "Chain 3: 1000 transitions using 10 leapfrog steps per transition would take 0.35 seconds.\n",
      "Chain 3: Adjust your expectations accordingly!\n",
      "Chain 3: \n",
      "Chain 3: \n",
      "Chain 3: Iteration:    1 / 2000 [  0%]  (Warmup)\n",
      "Chain 3: Iteration:  200 / 2000 [ 10%]  (Warmup)\n",
      "Chain 3: Iteration:  400 / 2000 [ 20%]  (Warmup)\n",
      "Chain 3: Iteration:  600 / 2000 [ 30%]  (Warmup)\n",
      "Chain 3: Iteration:  800 / 2000 [ 40%]  (Warmup)\n",
      "Chain 3: Iteration: 1000 / 2000 [ 50%]  (Warmup)\n",
      "Chain 3: Iteration: 1001 / 2000 [ 50%]  (Sampling)\n",
      "Chain 3: Iteration: 1200 / 2000 [ 60%]  (Sampling)\n",
      "Chain 3: Iteration: 1400 / 2000 [ 70%]  (Sampling)\n",
      "Chain 3: Iteration: 1600 / 2000 [ 80%]  (Sampling)\n",
      "Chain 3: Iteration: 1800 / 2000 [ 90%]  (Sampling)\n",
      "Chain 3: Iteration: 2000 / 2000 [100%]  (Sampling)\n",
      "Chain 3: \n",
      "Chain 3:  Elapsed Time: 0.154722 seconds (Warm-up)\n",
      "Chain 3:                0.167053 seconds (Sampling)\n",
      "Chain 3:                0.321775 seconds (Total)\n",
      "Chain 3: \n",
      "\n",
      "SAMPLING FOR MODEL 'bernoulli' NOW (CHAIN 4).\n",
      "Chain 4: \n",
      "Chain 4: Gradient evaluation took 3.3e-05 seconds\n",
      "Chain 4: 1000 transitions using 10 leapfrog steps per transition would take 0.33 seconds.\n",
      "Chain 4: Adjust your expectations accordingly!\n",
      "Chain 4: \n",
      "Chain 4: \n",
      "Chain 4: Iteration:    1 / 2000 [  0%]  (Warmup)\n",
      "Chain 4: Iteration:  200 / 2000 [ 10%]  (Warmup)\n",
      "Chain 4: Iteration:  400 / 2000 [ 20%]  (Warmup)\n",
      "Chain 4: Iteration:  600 / 2000 [ 30%]  (Warmup)\n",
      "Chain 4: Iteration:  800 / 2000 [ 40%]  (Warmup)\n",
      "Chain 4: Iteration: 1000 / 2000 [ 50%]  (Warmup)\n",
      "Chain 4: Iteration: 1001 / 2000 [ 50%]  (Sampling)\n",
      "Chain 4: Iteration: 1200 / 2000 [ 60%]  (Sampling)\n",
      "Chain 4: Iteration: 1400 / 2000 [ 70%]  (Sampling)\n",
      "Chain 4: Iteration: 1600 / 2000 [ 80%]  (Sampling)\n",
      "Chain 4: Iteration: 1800 / 2000 [ 90%]  (Sampling)\n",
      "Chain 4: Iteration: 2000 / 2000 [100%]  (Sampling)\n",
      "Chain 4: \n",
      "Chain 4:  Elapsed Time: 0.158379 seconds (Warm-up)\n",
      "Chain 4:                0.175165 seconds (Sampling)\n",
      "Chain 4:                0.333544 seconds (Total)\n",
      "Chain 4: \n"
     ]
    }
   ],
   "source": [
    "library('rstanarm')\n",
    "data1<-na.omit(subset(data, select=c(\"trump_vote\", \"pid\")))\n",
    "# https://cran.r-project.org/web/packages/rstanarm/vignettes/rstanarm.html\n",
    "# Caution: Think carefully about priors! \n",
    "mod <- stan_glm(trump_vote ~ 1 +  pid,\n",
    "                              data = data1,\n",
    "                              family = binomial(link = \"logit\"))\n",
    "                              "
   ]
  },
  {
   "cell_type": "code",
   "execution_count": 70,
   "metadata": {},
   "outputs": [
    {
     "data": {
      "text/html": [
       "<ol class=list-inline>\n",
       "\t<li>4000</li>\n",
       "\t<li>2</li>\n",
       "</ol>\n"
      ],
      "text/latex": [
       "\\begin{enumerate*}\n",
       "\\item 4000\n",
       "\\item 2\n",
       "\\end{enumerate*}\n"
      ],
      "text/markdown": [
       "1. 4000\n",
       "2. 2\n",
       "\n",
       "\n"
      ],
      "text/plain": [
       "[1] 4000    2"
      ]
     },
     "metadata": {},
     "output_type": "display_data"
    },
    {
     "data": {
      "text/html": [
       "<table>\n",
       "<thead><tr><th scope=col>(Intercept)</th><th scope=col>pid</th></tr></thead>\n",
       "<tbody>\n",
       "\t<tr><td>-5.310674</td><td>1.213412 </td></tr>\n",
       "\t<tr><td>-4.735571</td><td>1.096279 </td></tr>\n",
       "\t<tr><td>-4.716306</td><td>1.103953 </td></tr>\n",
       "\t<tr><td>-4.703022</td><td>1.073294 </td></tr>\n",
       "\t<tr><td>-4.640794</td><td>1.080176 </td></tr>\n",
       "\t<tr><td>-4.508793</td><td>1.030399 </td></tr>\n",
       "</tbody>\n",
       "</table>\n"
      ],
      "text/latex": [
       "\\begin{tabular}{ll}\n",
       " (Intercept) & pid\\\\\n",
       "\\hline\n",
       "\t -5.310674 & 1.213412 \\\\\n",
       "\t -4.735571 & 1.096279 \\\\\n",
       "\t -4.716306 & 1.103953 \\\\\n",
       "\t -4.703022 & 1.073294 \\\\\n",
       "\t -4.640794 & 1.080176 \\\\\n",
       "\t -4.508793 & 1.030399 \\\\\n",
       "\\end{tabular}\n"
      ],
      "text/markdown": [
       "\n",
       "| (Intercept) | pid |\n",
       "|---|---|\n",
       "| -5.310674 | 1.213412  |\n",
       "| -4.735571 | 1.096279  |\n",
       "| -4.716306 | 1.103953  |\n",
       "| -4.703022 | 1.073294  |\n",
       "| -4.640794 | 1.080176  |\n",
       "| -4.508793 | 1.030399  |\n",
       "\n"
      ],
      "text/plain": [
       "          parameters\n",
       "iterations (Intercept) pid     \n",
       "      [1,] -5.310674   1.213412\n",
       "      [2,] -4.735571   1.096279\n",
       "      [3,] -4.716306   1.103953\n",
       "      [4,] -4.703022   1.073294\n",
       "      [5,] -4.640794   1.080176\n",
       "      [6,] -4.508793   1.030399"
      ]
     },
     "metadata": {},
     "output_type": "display_data"
    },
    {
     "data": {
      "text/html": [
       "0.0270904423578919"
      ],
      "text/latex": [
       "0.0270904423578919"
      ],
      "text/markdown": [
       "0.0270904423578919"
      ],
      "text/plain": [
       "[1] 0.02709044"
      ]
     },
     "metadata": {},
     "output_type": "display_data"
    },
    {
     "data": {
      "text/html": [
       "0.946301418571816"
      ],
      "text/latex": [
       "0.946301418571816"
      ],
      "text/markdown": [
       "0.946301418571816"
      ],
      "text/plain": [
       "[1] 0.9463014"
      ]
     },
     "metadata": {},
     "output_type": "display_data"
    },
    {
     "data": {
      "image/png": "[encoded data removed]",
      "text/plain": [
       "plot without title"
      ]
     },
     "metadata": {},
     "output_type": "display_data"
    }
   ],
   "source": [
    "library(bayesplot)\n",
    "library(ggplot2)\n",
    "\n",
    "posterior <- as.matrix(mod)\n",
    "dim(posterior)\n",
    "head(posterior)\n",
    "posterior %*% c(1,1) %>% plogis() %>% mean()\n",
    "posterior %*% c(1,7) %>% plogis() %>% mean()\n",
    "temp_data<-cbind(1,seq(1,7))\n",
    "\n",
    "mean=(posterior %*% t(temp_data) %>% plogis() %>% apply(2, mean))\n",
    "lower=(posterior %*% t(temp_data) %>% plogis() %>% apply(2, quantile, 0.025))\n",
    "upper=(posterior %*% t(temp_data) %>% plogis() %>% apply(2, quantile, 0.975))\n",
    "\n",
    "plot.data<-data.frame(mean, upper, lower, pid=c(\"Strong Democrat\", \"Democrat\", \"Independent, Lean D\",\n",
    "                                    \"Indepenent\", \"Independent, Lean R\", \"Republican\", \"Strong Republican\"))\n",
    "plot.data$pid<-factor(plot.data$pid, c(\"Strong Democrat\", \"Democrat\", \"Independent, Lean D\",\n",
    "                                    \"Indepenent\", \"Independent, Lean R\", \"Republican\", \"Strong Republican\"))\n",
    "\n",
    "ggplot(plot.data, aes(x=as.factor(pid), \n",
    "                     y=mean, \n",
    "                     ymax=upper, \n",
    "                     ymin=lower, group=1))+\n",
    "geom_line()+\n",
    "geom_ribbon(fill=\"blue\", alpha=0.15)+\n",
    "xlab(\"PID\")+\n",
    "ylab(\"Prob\")\n"
   ]
  }
 ],
 "metadata": {
  "kernelspec": {
   "display_name": "R",
   "language": "R",
   "name": "ir"
  },
  "language_info": {
   "codemirror_mode": "r",
   "file_extension": ".r",
   "mimetype": "text/x-r-source",
   "name": "R",
   "pygments_lexer": "r",
   "version": "4.0.2"
  },
  "widgets": {
   "application/vnd.jupyter.widget-state+json": {
    "state": {},
    "version_major": 2,
    "version_minor": 0
   }
  }
 },
 "nbformat": 4,
 "nbformat_minor": 4
}
