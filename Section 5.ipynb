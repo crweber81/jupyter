{
 "cells": [
  {
   "cell_type": "markdown",
   "metadata": {},
   "source": [
    "## Nominal Models \n",
    "### An Overview\n",
    "### Weber, POL 683\n",
    "\n",
    "## Interpretation\n",
    "### This chapter accompanies Long, Chapter 6.\n",
    "\n",
    "Often, dependent variables don't have a natural ordering. We cannot array the variable on a continuum; nor are the distances between categories equal. For example, voting in multiparty elections presents this issue: It's not clear how to array four or five (or more) parties on a single continuum. Even party identification in the U.S. could be construed as non-ordered. Do \"Independent\" voters fall inbetween Republicans and Democrats? What about Green Party Voters, or Libertarians? Should we just assume these voters are ideological moderates?\n",
    "\n",
    "If we have multi-category nominal data, we again will violate the assumptions of the classical linear regression model. In addition to the usual problems (non-constant variance, non-sensical predictions, wrong functional form), OLS with an unordered variable is essentially meaningless because $X$ doesn't have a linear effect on $Y$.\n",
    "\n",
    "In the case of nominal data, we again can use the intuition of logit and probit with binary variables. The logit and probit models are somewhat different with multiple category data. Here, we'll mainly stick with the logit case, called the ***multinomial logit model*** (MLM).\n",
    "\n",
    "Instead of a single logit, we now will make multiple comparisons. For instance, consider voting for one of three parties $1=Liberal; 2=Social Democrat; 3=Conservative$. We could run one logit model predicting the probability of Liberal relative to Social Democratic voting. Then, run a second model predicting Liberal versus Conservative. Then, run a third model predicting Social Democrat versus Conservative. We could also include covariates predicting the outcome in each of these three models.\n",
    "\n",
    "### Intuition\n",
    "\n",
    "Much of this is simply a summarization of Long (1997), Chapter 6. Assume $y_{obs} \\in (SD, L, C)$. \n",
    "\n",
    "Maintaining the previous logic, estimate three models.\n",
    "\n",
    "$$ln({{pr(SD|x)}\\over{pr(L|x})}=\\beta_{0,SD|L}+\\beta_{1,SD|L}x$$\n",
    "$$ln({{pr(C|x)}\\over{pr(L|x})}=\\beta_{0,C|L}+\\beta_{1,C|L}x$$\n",
    "$$ln({{pr(SD|x)}\\over{pr(C|x})}=\\beta_{0,SD|C}+\\beta_{1,SD|C}x$$\n",
    "\n",
    "Exponentiate and\n",
    "\n",
    "$${{pr(SD|x)}\\over{pr(L|x)}}=exp(\\beta_{0,SD|L}+\\beta_{1,SD|L}x)$$\n",
    "$${{pr(C|x)}\\over{pr(L|x)}}=exp(\\beta_{0,C|L}+\\beta_{1,C|L}x)$$\n",
    "$${{pr(SD|x)}\\over{pr(C|x)}}=exp(\\beta_{0,SD|C}+\\beta_{1,SD|C}x)$$\n",
    "\n",
    "Now, we are predicting the relative odds of being in each category. There is something that should appear redundant about this formulation. If we predict the the odds of A over B given x, and then predict the odds of B over C given x, we should be able to use these results to estimate the odds of A over C given x, rather than estimating an altogether separate model. In fact, it can be shown that this is the case: The sum of the first two equations equals the third equation. \n",
    "\n",
    "We could also calculate the probability of being in the $k$th category.\n",
    "\n",
    "$${{pr(y=K|x)}}={{exp(X\\beta_{k})}\\over {\\sum_k exp(X\\beta_{k})}}$$\n",
    "\n",
    "If we were to estimate this model for each outcome, the model is not identified. We cannot find a unique solution for this sytem of equations. Multiply the above expression by $exp(x\\tau)/exp(x\\tau)$. The probabilities will stay the same, but $\\beta=\\beta+\\tau$. You should sort of see this in the three equations as well. We don't really need to estimate three models to find the probability of the three categories. We only need to estimate two models and note that the third category has a probabity equal to 1 minus the sum of the two.\n",
    "\n",
    "Instead, we need to apply a constraint to identify the model. A common one is that the $\\beta$s for one of the equations are all equal to 1. So, for instance,\n",
    "\n",
    "$$y_{obs} =\n",
    "  \\begin{array}{lr}\n",
    "    SD, 1/(1+\\sum_{k=2}^K exp(XB_k))\\\\\n",
    "    C,  exp(XB_{C})/(1+\\sum_{k=2}^K exp(XB_k))\\\\\n",
    "    L,  exp(XB_{L})/(1+\\sum_{k=2}^K exp(XB_k))\\\\\n",
    "  \\end{array}\n",
    "$$\n",
    "\n",
    "Similar to a dummy variable regression, we estimate $k-1$ unique equations, where one category serves as the baseline, reference category. In the above example, the excluded category is SD. So, the basic logic of a series of chained logits still holds, but we are anchoring these logits relative to a common baseline (here, SD).\n",
    "\n",
    "### The Likelihood\n",
    "\n",
    "The likelihood is not all that dissimilar to that of the ordered logit. Recall, the probability of being in the $k$th category for the $i$th subject is,\n",
    "\n",
    "\\begin{eqnarray*}\n",
    "pr(y_{i}=K|x_i) & = &{ {exp(XB)}\\over{\\sum exp(XB)} }\\\\\n",
    "\\end{eqnarray*}\n",
    "\n",
    "With the constraint that $B=0$ for the set of predictors in one category. Again, we need to calculate the joint parameter space, $pr(y_{i}=1|X_i)\\times pr(y_{i}=2|X_i) \\times pr(y_{i}=3|X_i) \\times....pr(y_{i}=K|X_i)$. This is just the joint probability for category membership, for each subject, so\n",
    "\n",
    "\\begin{eqnarray*}\n",
    "pr(y_{i}|X_i) & = & \\prod_{k=1}^K { {exp(XB)}\\over{\\sum exp(XB)} }\\\\\n",
    "\\end{eqnarray*}\n",
    "\n",
    "This only refers to the probability space for a single subject. Since the likelihood is $\\prod_{i=1}^N p_i$, we need to calculate the joint probability for each subject, which is,\n",
    "\n",
    "\\begin{eqnarray*}\n",
    "pr(y|X) & = & \\prod_{i=1}^N \\prod_{k=1}^K { {exp(XB)}\\over{\\sum exp(XB)} }\\\\\n",
    "\\end{eqnarray*}\n",
    "\n",
    "Once again, it's far easier to calculate the probabilities by taking the log of the likelihood.\n",
    "\n",
    "\\begin{eqnarray*}\n",
    "Loglik(\\beta | y, X)& = & \\sum_{i=1}^N \\sum_{k=1}^K log[{ {exp(XB)}\\over{\\sum exp(XB)} } \\\\\n",
    "\\end{eqnarray*}\n",
    "\n",
    "Again, we could use maximum likelihood to estimate the parameters in the model.\n",
    "\n",
    "\\section*{Interpretation}\n",
    "With $k$ categories, there are $k-1$ unique ``models'' in the multinomial logit model. In other words, if we include 2 covariates and there are 3 categories, we would estimate six parameters. Again, just think of this as a set of chained binary logit models, with a common baseline. For instance, if our dependent variable is voting Social Democrat, Conservative, or Liberal, we could set Liberal as the baseline and predict the log odds of voting Social Democrat relative to Liberal and Conservative relative to Liberal.\n",
    "\n",
    "As is probably not surprising, what this means is that the partial derivative is not a constant,\n",
    "\n",
    "$${{\\partial pr(y=k|x)}\\over{\\partial x}}=\\sum_{j=1}^J \\beta_{j,m}pr(y=k|x)$$\n",
    "\n",
    "Where, $k$ corresponds to the category, $j$ the item.\n",
    "\n",
    "The key to understand here is that one category serves as the baseline and we interpret the results of the $k-1$ categories in reference to that baseline. If we would like to test whether one variable does not have an effect, then:\n",
    "\n",
    "$$H_0=\\beta_{k,1|r}=\\beta_{k,2|r}=....\\beta_{k,J|r}$$\n",
    "\n",
    "Likewise, we may also test the probability of being in the $k$th category, given a particular value of $x$.\n",
    "\n",
    "$$pr(y=k|x)={{exp(xB_k)}{\\sum_{j=1}^Jexp(xB_k)}}$$\n",
    "\n",
    "Let's explore a simple application of the multinomial logit model. I'll show you how to do this using maximum likelihood, by relying on the **nnet** package.\n"
   ]
  },
  {
   "cell_type": "code",
   "execution_count": 110,
   "metadata": {},
   "outputs": [
    {
     "data": {
      "text/html": [
       "<table>\n",
       "<thead><tr><th scope=col>trump_vote</th><th scope=col>pid</th><th scope=col>dem_ideo</th><th scope=col>rep_ideo</th></tr></thead>\n",
       "<tbody>\n",
       "\t<tr><td>0</td><td>1</td><td>3</td><td>2</td></tr>\n",
       "\t<tr><td>1</td><td>4</td><td>4</td><td>2</td></tr>\n",
       "\t<tr><td>1</td><td>6</td><td>3</td><td>3</td></tr>\n",
       "\t<tr><td>0</td><td>2</td><td>3</td><td>2</td></tr>\n",
       "\t<tr><td>1</td><td>4</td><td>3</td><td>2</td></tr>\n",
       "\t<tr><td>1</td><td>6</td><td>5</td><td>5</td></tr>\n",
       "</tbody>\n",
       "</table>\n"
      ],
      "text/latex": [
       "\\begin{tabular}{r|llll}\n",
       " trump\\_vote & pid & dem\\_ideo & rep\\_ideo\\\\\n",
       "\\hline\n",
       "\t 0 & 1 & 3 & 2\\\\\n",
       "\t 1 & 4 & 4 & 2\\\\\n",
       "\t 1 & 6 & 3 & 3\\\\\n",
       "\t 0 & 2 & 3 & 2\\\\\n",
       "\t 1 & 4 & 3 & 2\\\\\n",
       "\t 1 & 6 & 5 & 5\\\\\n",
       "\\end{tabular}\n"
      ],
      "text/markdown": [
       "\n",
       "| trump_vote | pid | dem_ideo | rep_ideo |\n",
       "|---|---|---|---|\n",
       "| 0 | 1 | 3 | 2 |\n",
       "| 1 | 4 | 4 | 2 |\n",
       "| 1 | 6 | 3 | 3 |\n",
       "| 0 | 2 | 3 | 2 |\n",
       "| 1 | 4 | 3 | 2 |\n",
       "| 1 | 6 | 5 | 5 |\n",
       "\n"
      ],
      "text/plain": [
       "  trump_vote pid dem_ideo rep_ideo\n",
       "1 0          1   3        2       \n",
       "2 1          4   4        2       \n",
       "3 1          6   3        3       \n",
       "4 0          2   3        2       \n",
       "5 1          4   3        2       \n",
       "6 1          6   5        5       "
      ]
     },
     "metadata": {},
     "output_type": "display_data"
    },
    {
     "name": "stdout",
     "output_type": "stream",
     "text": [
      "# weights:  6 (2 variable)\n",
      "initial  value 1256.812458 \n",
      "final  value 1204.302031 \n",
      "converged\n"
     ]
    },
    {
     "data": {
      "text/plain": [
       "Call:\n",
       "multinom(formula = as.factor(pid3) ~ 1, data = dat)\n",
       "\n",
       "Coefficients:\n",
       "  (Intercept)\n",
       "2  -0.5553128\n",
       "3   0.2182034\n",
       "\n",
       "Std. Errors:\n",
       "  (Intercept)\n",
       "2  0.08218813\n",
       "3  0.06665774\n",
       "\n",
       "Residual Deviance: 2408.604 \n",
       "AIC: 2412.604 "
      ]
     },
     "metadata": {},
     "output_type": "display_data"
    }
   ],
   "source": [
    "library(nnet)\n",
    "library(dplyr)\n",
    "load(\"~/Desktop/demo683.rda\")\n",
    "head(demo_data)\n",
    "dat = demo_data %>% mutate(pid3=recode(pid, `1`=1, `2`=1,`3`=1, `4`=2,`5`=3, `6`=3, `7`=3))\n",
    "multinom(as.factor(pid3)~1, dat) %>% summary()\n",
    "\n",
    "\n"
   ]
  },
  {
   "cell_type": "markdown",
   "metadata": {},
   "source": [
    "The default formula declares \"Democrat'' as the baseline. Like usual, let's interpret the simple model before adding covariates.\n",
    "\n"
   ]
  },
  {
   "cell_type": "code",
   "execution_count": 111,
   "metadata": {},
   "outputs": [
    {
     "name": "stdout",
     "output_type": "stream",
     "text": [
      "# weights:  6 (2 variable)\n",
      "initial  value 1256.812458 \n",
      "final  value 1204.302031 \n",
      "converged\n",
      "  (Intercept)\n",
      "2  -0.5553128\n",
      "3   0.2182034\n",
      "[1] \"Probability of Democrat:\"\n",
      "[1] 0.3548953\n",
      "[1] \"Probability of Independent:\"\n",
      "[1] 0.2036718\n",
      "[1] \"Probability of Republican:\"\n",
      "[1] 0.4414329\n"
     ]
    },
    {
     "data": {
      "text/plain": [
       "\n",
       "        1         2         3 \n",
       "0.3548951 0.2036713 0.4414336 "
      ]
     },
     "metadata": {},
     "output_type": "display_data"
    }
   ],
   "source": [
    "a=multinom(as.factor(pid3)~1, dat)\n",
    "print(coef(a))### Two intercepts, because there are two equations.\n",
    "### The probability of Democrat\n",
    "print(\"Probability of Democrat:\")\n",
    "print((1)/\n",
    "       (1+sum(exp(coef(a)[1])+\n",
    "                exp(coef(a)[2]))\n",
    "       ))\n",
    "\n",
    "print(\"Probability of Independent:\")\n",
    "print((exp(coef(a)[1]))/\n",
    "       (1+sum(exp(coef(a)[1])+\n",
    "                exp(coef(a)[2]))\n",
    "       ))\n",
    "      \n",
    "print(\"Probability of Republican:\")\n",
    "print((exp(coef(a)[2]))/\n",
    "       (1+sum(exp(coef(a)[1])+\n",
    "                exp(coef(a)[2]))\n",
    "       ))\n",
    "\n",
    "table(dat$pid3)/sum(table(dat$pid3)) ### It's really not magic. Marginals.\n",
    "\n"
   ]
  },
  {
   "cell_type": "markdown",
   "metadata": {},
   "source": [
    "We could simply modify this code a pass a vector of values for $x$ to these formula. Likewise, **vcov()** will give the variance-covariance matrix of the regression parameters, allowing us to generate uncertainty surrounding our estimates. Because I've demonstrated this extensively with **logit** and to a lesser extent with **ordered logit**, I'm not going to reproduce that code here. However, the general logic from Gelman and Hill (2009, Chapter 6/7) applies here as well.\n",
    "\n",
    "Once again, the complexity of the model is related to the number of parameters. For x variables we end up estiming K-1 $\\times$ Structural Parameters. For this example, with two covariates, we would estimate 6 parameters -- two intercepts and 4 slopes. Let's now extend the model with one covariate. We would typically have voting as a LHS variable and party as a RHS variable. Let's switch things, and instead estimate $pr(PID|Vote Preference)$. How strongly related is a Trump preference to partisan identity? This is a substantively important question, as it might show a fair amount of \"slippage\" between party attachments and voting.\n"
   ]
  },
  {
   "cell_type": "code",
   "execution_count": 112,
   "metadata": {},
   "outputs": [
    {
     "name": "stdout",
     "output_type": "stream",
     "text": [
      "# weights:  9 (4 variable)\n",
      "initial  value 1256.812458 \n",
      "iter  10 value 885.805009\n",
      "final  value 885.803032 \n",
      "converged\n",
      "Call:\n",
      "multinom(formula = as.factor(pid3) ~ trump_vote, data = dat)\n",
      "\n",
      "Coefficients:\n",
      "  (Intercept) trump_vote\n",
      "2   -1.024314   2.208084\n",
      "3   -1.639130   4.306358\n",
      "\n",
      "Residual Deviance: 1771.606 \n",
      "AIC: 1779.606 \n",
      "[1] \"Probability of Democrat, if one prefers Biden:\"\n",
      "[1] 0.6438356\n",
      "[1] \"Probability of Democrat, if one prefers Trump:\"\n",
      "[1] 0.05357144\n",
      "[1] \"Probability of Republican, if one prefers Biden:\"\n",
      "[1] 0.125\n",
      "[1] \"Probability of Republican, if one prefers Trump:\"\n",
      "[1] 0.7714286\n"
     ]
    }
   ],
   "source": [
    "a=multinom(as.factor(pid3)~trump_vote, dat)\n",
    "print(a)\n",
    "\n",
    "### The probability of Democrat\n",
    "print(\"Probability of Democrat, if one prefers Biden:\")\n",
    "print((1)/\n",
    "       (1+sum(exp(coef(a)[1]+coef(a)[3]*0)+\n",
    "                exp(coef(a)[2]+coef(a)[4]*0))\n",
    "       ))\n",
    "print(\"Probability of Democrat, if one prefers Trump:\")\n",
    "\n",
    "print((1)/\n",
    "       (1+sum(exp(coef(a)[1]+coef(a)[3]*1)+\n",
    "                exp(coef(a)[2]+coef(a)[4]*1))\n",
    "       ))\n",
    "\n",
    "\n",
    "print(\"Probability of Republican, if one prefers Biden:\")\n",
    "print(exp(coef(a)[2]+coef(a)[4]*0)/\n",
    "       (1+sum(exp(coef(a)[1]+coef(a)[3]*0)+\n",
    "                exp(coef(a)[2]+coef(a)[4]*0))\n",
    "       ))\n",
    "print(\"Probability of Republican, if one prefers Trump:\")\n",
    "\n",
    "print(exp(coef(a)[2]+coef(a)[4]*1)/\n",
    "       (1+sum(exp(coef(a)[1]+coef(a)[3]*1)+\n",
    "                exp(coef(a)[2]+coef(a)[4]*1))\n",
    "       ))\n",
    "\n",
    "\n",
    "\n",
    "\n",
    "\n",
    "\n"
   ]
  },
  {
   "cell_type": "markdown",
   "metadata": {},
   "source": [
    "Six percent of Trump voters are predicted to identify as Republican. On the other hand, 13% of Biden supporters purport to be Republican. What about Independents?"
   ]
  },
  {
   "cell_type": "markdown",
   "metadata": {},
   "source": [
    "## Brief Example"
   ]
  },
  {
   "cell_type": "code",
   "execution_count": 115,
   "metadata": {},
   "outputs": [
    {
     "name": "stdout",
     "output_type": "stream",
     "text": [
      "# weights:  9 (4 variable)\n",
      "initial  value 1256.812458 \n",
      "iter  10 value 885.805009\n",
      "final  value 885.803032 \n",
      "converged\n"
     ]
    },
    {
     "data": {
      "text/html": [
       "<table>\n",
       "<thead><tr><th></th><th scope=col>2:(Intercept)</th><th scope=col>2:trump_vote</th><th scope=col>3:(Intercept)</th><th scope=col>3:trump_vote</th></tr></thead>\n",
       "<tbody>\n",
       "\t<tr><th scope=row>2:(Intercept)</th><td> 0.010066982</td><td>-0.010066982</td><td> 0.002659574</td><td>-0.002659574</td></tr>\n",
       "\t<tr><th scope=row>2:trump_vote</th><td>-0.010066982</td><td> 0.053604392</td><td>-0.002659574</td><td> 0.035992903</td></tr>\n",
       "\t<tr><th scope=row>3:(Intercept)</th><td> 0.002659574</td><td>-0.002659574</td><td> 0.016358205</td><td>-0.016358205</td></tr>\n",
       "\t<tr><th scope=row>3:trump_vote</th><td>-0.002659574</td><td> 0.035992903</td><td>-0.016358205</td><td> 0.052006349</td></tr>\n",
       "</tbody>\n",
       "</table>\n"
      ],
      "text/latex": [
       "\\begin{tabular}{r|llll}\n",
       "  & 2:(Intercept) & 2:trump\\_vote & 3:(Intercept) & 3:trump\\_vote\\\\\n",
       "\\hline\n",
       "\t2:(Intercept) &  0.010066982 & -0.010066982 &  0.002659574 & -0.002659574\\\\\n",
       "\t2:trump\\_vote & -0.010066982 &  0.053604392 & -0.002659574 &  0.035992903\\\\\n",
       "\t3:(Intercept) &  0.002659574 & -0.002659574 &  0.016358205 & -0.016358205\\\\\n",
       "\t3:trump\\_vote & -0.002659574 &  0.035992903 & -0.016358205 &  0.052006349\\\\\n",
       "\\end{tabular}\n"
      ],
      "text/markdown": [
       "\n",
       "| <!--/--> | 2:(Intercept) | 2:trump_vote | 3:(Intercept) | 3:trump_vote |\n",
       "|---|---|---|---|---|\n",
       "| 2:(Intercept) |  0.010066982 | -0.010066982 |  0.002659574 | -0.002659574 |\n",
       "| 2:trump_vote | -0.010066982 |  0.053604392 | -0.002659574 |  0.035992903 |\n",
       "| 3:(Intercept) |  0.002659574 | -0.002659574 |  0.016358205 | -0.016358205 |\n",
       "| 3:trump_vote | -0.002659574 |  0.035992903 | -0.016358205 |  0.052006349 |\n",
       "\n"
      ],
      "text/plain": [
       "              2:(Intercept) 2:trump_vote 3:(Intercept) 3:trump_vote\n",
       "2:(Intercept)  0.010066982  -0.010066982  0.002659574  -0.002659574\n",
       "2:trump_vote  -0.010066982   0.053604392 -0.002659574   0.035992903\n",
       "3:(Intercept)  0.002659574  -0.002659574  0.016358205  -0.016358205\n",
       "3:trump_vote  -0.002659574   0.035992903 -0.016358205   0.052006349"
      ]
     },
     "metadata": {},
     "output_type": "display_data"
    },
    {
     "data": {
      "text/html": [
       "<ol class=list-inline>\n",
       "\t<li>4</li>\n",
       "\t<li>4</li>\n",
       "</ol>\n"
      ],
      "text/latex": [
       "\\begin{enumerate*}\n",
       "\\item 4\n",
       "\\item 4\n",
       "\\end{enumerate*}\n"
      ],
      "text/markdown": [
       "1. 4\n",
       "2. 4\n",
       "\n",
       "\n"
      ],
      "text/plain": [
       "[1] 4 4"
      ]
     },
     "metadata": {},
     "output_type": "display_data"
    },
    {
     "data": {
      "text/html": [
       "<table>\n",
       "<thead><tr><th></th><th scope=col>(Intercept)</th><th scope=col>trump_vote</th></tr></thead>\n",
       "<tbody>\n",
       "\t<tr><th scope=row>2</th><td>-1.024314</td><td>2.208084 </td></tr>\n",
       "\t<tr><th scope=row>3</th><td>-1.639130</td><td>4.306358 </td></tr>\n",
       "</tbody>\n",
       "</table>\n"
      ],
      "text/latex": [
       "\\begin{tabular}{r|ll}\n",
       "  & (Intercept) & trump\\_vote\\\\\n",
       "\\hline\n",
       "\t2 & -1.024314 & 2.208084 \\\\\n",
       "\t3 & -1.639130 & 4.306358 \\\\\n",
       "\\end{tabular}\n"
      ],
      "text/markdown": [
       "\n",
       "| <!--/--> | (Intercept) | trump_vote |\n",
       "|---|---|---|\n",
       "| 2 | -1.024314 | 2.208084  |\n",
       "| 3 | -1.639130 | 4.306358  |\n",
       "\n"
      ],
      "text/plain": [
       "  (Intercept) trump_vote\n",
       "2 -1.024314   2.208084  \n",
       "3 -1.639130   4.306358  "
      ]
     },
     "metadata": {},
     "output_type": "display_data"
    },
    {
     "data": {
      "text/html": [
       "<ol class=list-inline>\n",
       "\t<li>0.623962204338446</li>\n",
       "\t<li>0.622444638544252</li>\n",
       "\t<li>0.633048553439632</li>\n",
       "\t<li>0.657157625440204</li>\n",
       "\t<li>0.671521319517824</li>\n",
       "\t<li>0.641806122398012</li>\n",
       "</ol>\n"
      ],
      "text/latex": [
       "\\begin{enumerate*}\n",
       "\\item 0.623962204338446\n",
       "\\item 0.622444638544252\n",
       "\\item 0.633048553439632\n",
       "\\item 0.657157625440204\n",
       "\\item 0.671521319517824\n",
       "\\item 0.641806122398012\n",
       "\\end{enumerate*}\n"
      ],
      "text/markdown": [
       "1. 0.623962204338446\n",
       "2. 0.622444638544252\n",
       "3. 0.633048553439632\n",
       "4. 0.657157625440204\n",
       "5. 0.671521319517824\n",
       "6. 0.641806122398012\n",
       "\n",
       "\n"
      ],
      "text/plain": [
       "[1] 0.6239622 0.6224446 0.6330486 0.6571576 0.6715213 0.6418061"
      ]
     },
     "metadata": {},
     "output_type": "display_data"
    },
    {
     "data": {
      "text/html": [
       "<ol class=list-inline>\n",
       "\t<li>0.227573700173487</li>\n",
       "\t<li>0.250899003399921</li>\n",
       "\t<li>0.241865961928208</li>\n",
       "\t<li>0.223346169578221</li>\n",
       "\t<li>0.204314137716772</li>\n",
       "\t<li>0.227869342870634</li>\n",
       "</ol>\n"
      ],
      "text/latex": [
       "\\begin{enumerate*}\n",
       "\\item 0.227573700173487\n",
       "\\item 0.250899003399921\n",
       "\\item 0.241865961928208\n",
       "\\item 0.223346169578221\n",
       "\\item 0.204314137716772\n",
       "\\item 0.227869342870634\n",
       "\\end{enumerate*}\n"
      ],
      "text/markdown": [
       "1. 0.227573700173487\n",
       "2. 0.250899003399921\n",
       "3. 0.241865961928208\n",
       "4. 0.223346169578221\n",
       "5. 0.204314137716772\n",
       "6. 0.227869342870634\n",
       "\n",
       "\n"
      ],
      "text/plain": [
       "[1] 0.2275737 0.2508990 0.2418660 0.2233462 0.2043141 0.2278693"
      ]
     },
     "metadata": {},
     "output_type": "display_data"
    },
    {
     "data": {
      "text/html": [
       "<ol class=list-inline>\n",
       "\t<li>0.148464095488067</li>\n",
       "\t<li>0.126656358055826</li>\n",
       "\t<li>0.12508548463216</li>\n",
       "\t<li>0.119496204981575</li>\n",
       "\t<li>0.124164542765404</li>\n",
       "\t<li>0.130324534731354</li>\n",
       "</ol>\n"
      ],
      "text/latex": [
       "\\begin{enumerate*}\n",
       "\\item 0.148464095488067\n",
       "\\item 0.126656358055826\n",
       "\\item 0.12508548463216\n",
       "\\item 0.119496204981575\n",
       "\\item 0.124164542765404\n",
       "\\item 0.130324534731354\n",
       "\\end{enumerate*}\n"
      ],
      "text/markdown": [
       "1. 0.148464095488067\n",
       "2. 0.126656358055826\n",
       "3. 0.12508548463216\n",
       "4. 0.119496204981575\n",
       "5. 0.124164542765404\n",
       "6. 0.130324534731354\n",
       "\n",
       "\n"
      ],
      "text/plain": [
       "[1] 0.1484641 0.1266564 0.1250855 0.1194962 0.1241645 0.1303245"
      ]
     },
     "metadata": {},
     "output_type": "display_data"
    }
   ],
   "source": [
    "a=multinom(as.factor(pid3)~trump_vote, dat)\n",
    "sim_beta=vcov(a)\n",
    "head(sim_beta) ## Note the order of coefficients here.\n",
    "dim(sim_beta)\n",
    "coef(a)\n",
    "\n",
    "\n",
    "output<-a\n",
    "require(MASS)\n",
    "set.seed(27)\n",
    "p<-c(1,0) ## Biden Voter\n",
    "k<-max(as.numeric(as.factor(output$lev)))-1\n",
    "j<-length(coef(output))/2\n",
    "beta.sim<-mvrnorm(1000, c(coef(output)[1,], coef(output)[2,]), vcov(output)) ##Draw samples from multivariate distrbution\n",
    "c2<-p%*%t(beta.sim[,1:j])\n",
    "c3<-p%*%t(beta.sim[,(j+1):(j*2)])\n",
    "p.c1<-1/(1+exp(c2)+exp(c3))\n",
    "p.c2<-exp(c2)/(1+exp(c2)+exp(c3))\n",
    "p.c3<-exp(c3)/(1+exp(c2)+exp(c3))\n",
    "g1<-apply(p.c1, 2, mean)\n",
    "g2<-apply(p.c2, 2, mean)\n",
    "g3<-apply(p.c3, 2, mean)\n",
    "head(g1)\n",
    "head(g2)\n",
    "head(g3)\n",
    "\n",
    "mlogit_pred=function(model, newdata){\n",
    "    output<-a\n",
    "    require(MASS)\n",
    "    set.seed(27)\n",
    "    p1<-newdata\n",
    "    k<-max(as.numeric(as.factor(output$lev)))-1\n",
    "    j<-length(coef(output))/2\n",
    "    beta.sim<-mvrnorm(1000, c(coef(output)[1,], coef(output)[2,]), vcov(output)) ##Draw samples from multivariate distrbution\n",
    "    c2<-p1%*%t(beta.sim[,1:j])\n",
    "    c3<-p1%*%t(beta.sim[,(j+1):(j*2)])\n",
    "    p.c1<-1/(1+exp(c2)+exp(c3))\n",
    "    p.c2<-exp(c2)/(1+exp(c2)+exp(c3))\n",
    "    p.c3<-exp(c3)/(1+exp(c2)+exp(c3))\n",
    "    g1<-apply(p.c1, 2, mean)\n",
    "    g2<-apply(p.c2, 2, mean)\n",
    "    g3<-apply(p.c3, 2, mean)\n",
    "    \n",
    "    cat(\"The Probabilities for each category, when Trump vote is\", newdata[2])\n",
    "  return(list(Democrat=data.frame(min=quantile(g1, 0.025),\n",
    "                             max=quantile(g1, 0.975),\n",
    "                             mean=quantile(g1, 0.5)),\n",
    "              Independent=data.frame(min=quantile(g2, 0.025),\n",
    "                             max=quantile(g2, 0.975),\n",
    "                             mean=quantile(g2, 0.5)),\n",
    "              Republican= data.frame(min=quantile(g3, 0.025),\n",
    "                                max=quantile(g3, 0.975),\n",
    "                                mean=quantile(g3, 0.5))\n",
    "  ))\n",
    "}\n"
   ]
  },
  {
   "cell_type": "code",
   "execution_count": 109,
   "metadata": {},
   "outputs": [
    {
     "name": "stdout",
     "output_type": "stream",
     "text": [
      "The Probabilities for each category, when Trump vote is 0"
     ]
    },
    {
     "data": {
      "text/html": [
       "<dl>\n",
       "\t<dt>$Democrat</dt>\n",
       "\t\t<dd><table>\n",
       "<thead><tr><th></th><th scope=col>min</th><th scope=col>max</th><th scope=col>mean</th></tr></thead>\n",
       "<tbody>\n",
       "\t<tr><th scope=row>2.5%</th><td>0.6033163</td><td>0.6822551</td><td>0.6445443</td></tr>\n",
       "</tbody>\n",
       "</table>\n",
       "</dd>\n",
       "\t<dt>$Independent</dt>\n",
       "\t\t<dd><table>\n",
       "<thead><tr><th></th><th scope=col>min</th><th scope=col>max</th><th scope=col>mean</th></tr></thead>\n",
       "<tbody>\n",
       "\t<tr><th scope=row>2.5%</th><td>0.1973132</td><td>0.2667061</td><td>0.2304283</td></tr>\n",
       "</tbody>\n",
       "</table>\n",
       "</dd>\n",
       "\t<dt>$Republican</dt>\n",
       "\t\t<dd><table>\n",
       "<thead><tr><th></th><th scope=col>min</th><th scope=col>max</th><th scope=col>mean</th></tr></thead>\n",
       "<tbody>\n",
       "\t<tr><th scope=row>2.5%</th><td>0.1016802</td><td>0.1536511</td><td>0.124439 </td></tr>\n",
       "</tbody>\n",
       "</table>\n",
       "</dd>\n",
       "</dl>\n"
      ],
      "text/latex": [
       "\\begin{description}\n",
       "\\item[\\$Democrat] \\begin{tabular}{r|lll}\n",
       "  & min & max & mean\\\\\n",
       "\\hline\n",
       "\t2.5\\% & 0.6033163 & 0.6822551 & 0.6445443\\\\\n",
       "\\end{tabular}\n",
       "\n",
       "\\item[\\$Independent] \\begin{tabular}{r|lll}\n",
       "  & min & max & mean\\\\\n",
       "\\hline\n",
       "\t2.5\\% & 0.1973132 & 0.2667061 & 0.2304283\\\\\n",
       "\\end{tabular}\n",
       "\n",
       "\\item[\\$Republican] \\begin{tabular}{r|lll}\n",
       "  & min & max & mean\\\\\n",
       "\\hline\n",
       "\t2.5\\% & 0.1016802 & 0.1536511 & 0.124439 \\\\\n",
       "\\end{tabular}\n",
       "\n",
       "\\end{description}\n"
      ],
      "text/markdown": [
       "$Democrat\n",
       ":   \n",
       "| <!--/--> | min | max | mean |\n",
       "|---|---|---|---|\n",
       "| 2.5% | 0.6033163 | 0.6822551 | 0.6445443 |\n",
       "\n",
       "\n",
       "$Independent\n",
       ":   \n",
       "| <!--/--> | min | max | mean |\n",
       "|---|---|---|---|\n",
       "| 2.5% | 0.1973132 | 0.2667061 | 0.2304283 |\n",
       "\n",
       "\n",
       "$Republican\n",
       ":   \n",
       "| <!--/--> | min | max | mean |\n",
       "|---|---|---|---|\n",
       "| 2.5% | 0.1016802 | 0.1536511 | 0.124439  |\n",
       "\n",
       "\n",
       "\n",
       "\n"
      ],
      "text/plain": [
       "$Democrat\n",
       "           min       max      mean\n",
       "2.5% 0.6033163 0.6822551 0.6445443\n",
       "\n",
       "$Independent\n",
       "           min       max      mean\n",
       "2.5% 0.1973132 0.2667061 0.2304283\n",
       "\n",
       "$Republican\n",
       "           min       max     mean\n",
       "2.5% 0.1016802 0.1536511 0.124439\n"
      ]
     },
     "metadata": {},
     "output_type": "display_data"
    },
    {
     "name": "stdout",
     "output_type": "stream",
     "text": [
      "The Probabilities for each category, when Trump vote is 1"
     ]
    },
    {
     "data": {
      "text/html": [
       "<dl>\n",
       "\t<dt>$Democrat</dt>\n",
       "\t\t<dd><table>\n",
       "<thead><tr><th></th><th scope=col>min</th><th scope=col>max</th><th scope=col>mean</th></tr></thead>\n",
       "<tbody>\n",
       "\t<tr><th scope=row>2.5%</th><td>0.03771334</td><td>0.07473782</td><td>0.05339257</td></tr>\n",
       "</tbody>\n",
       "</table>\n",
       "</dd>\n",
       "\t<dt>$Independent</dt>\n",
       "\t\t<dd><table>\n",
       "<thead><tr><th></th><th scope=col>min</th><th scope=col>max</th><th scope=col>mean</th></tr></thead>\n",
       "<tbody>\n",
       "\t<tr><th scope=row>2.5%</th><td>0.1441502</td><td>0.2081029</td><td>0.1746306</td></tr>\n",
       "</tbody>\n",
       "</table>\n",
       "</dd>\n",
       "\t<dt>$Republican</dt>\n",
       "\t\t<dd><table>\n",
       "<thead><tr><th></th><th scope=col>min</th><th scope=col>max</th><th scope=col>mean</th></tr></thead>\n",
       "<tbody>\n",
       "\t<tr><th scope=row>2.5%</th><td>0.7342784</td><td>0.8046559</td><td>0.770248 </td></tr>\n",
       "</tbody>\n",
       "</table>\n",
       "</dd>\n",
       "</dl>\n"
      ],
      "text/latex": [
       "\\begin{description}\n",
       "\\item[\\$Democrat] \\begin{tabular}{r|lll}\n",
       "  & min & max & mean\\\\\n",
       "\\hline\n",
       "\t2.5\\% & 0.03771334 & 0.07473782 & 0.05339257\\\\\n",
       "\\end{tabular}\n",
       "\n",
       "\\item[\\$Independent] \\begin{tabular}{r|lll}\n",
       "  & min & max & mean\\\\\n",
       "\\hline\n",
       "\t2.5\\% & 0.1441502 & 0.2081029 & 0.1746306\\\\\n",
       "\\end{tabular}\n",
       "\n",
       "\\item[\\$Republican] \\begin{tabular}{r|lll}\n",
       "  & min & max & mean\\\\\n",
       "\\hline\n",
       "\t2.5\\% & 0.7342784 & 0.8046559 & 0.770248 \\\\\n",
       "\\end{tabular}\n",
       "\n",
       "\\end{description}\n"
      ],
      "text/markdown": [
       "$Democrat\n",
       ":   \n",
       "| <!--/--> | min | max | mean |\n",
       "|---|---|---|---|\n",
       "| 2.5% | 0.03771334 | 0.07473782 | 0.05339257 |\n",
       "\n",
       "\n",
       "$Independent\n",
       ":   \n",
       "| <!--/--> | min | max | mean |\n",
       "|---|---|---|---|\n",
       "| 2.5% | 0.1441502 | 0.2081029 | 0.1746306 |\n",
       "\n",
       "\n",
       "$Republican\n",
       ":   \n",
       "| <!--/--> | min | max | mean |\n",
       "|---|---|---|---|\n",
       "| 2.5% | 0.7342784 | 0.8046559 | 0.770248  |\n",
       "\n",
       "\n",
       "\n",
       "\n"
      ],
      "text/plain": [
       "$Democrat\n",
       "            min        max       mean\n",
       "2.5% 0.03771334 0.07473782 0.05339257\n",
       "\n",
       "$Independent\n",
       "           min       max      mean\n",
       "2.5% 0.1441502 0.2081029 0.1746306\n",
       "\n",
       "$Republican\n",
       "           min       max     mean\n",
       "2.5% 0.7342784 0.8046559 0.770248\n"
      ]
     },
     "metadata": {},
     "output_type": "display_data"
    }
   ],
   "source": [
    "mlogit_pred(a, newdata=c(1,0))\n",
    "mlogit_pred(a, newdata=c(1,1))"
   ]
  }
 ],
 "metadata": {
  "kernelspec": {
   "display_name": "R [conda env:POL683]",
   "language": "R",
   "name": "conda-env-POL683-r"
  },
  "language_info": {
   "codemirror_mode": "r",
   "file_extension": ".r",
   "mimetype": "text/x-r-source",
   "name": "R",
   "pygments_lexer": "r",
   "version": "3.6.1"
  },
  "widgets": {
   "application/vnd.jupyter.widget-state+json": {
    "state": {},
    "version_major": 2,
    "version_minor": 0
   }
  }
 },
 "nbformat": 4,
 "nbformat_minor": 4
}
